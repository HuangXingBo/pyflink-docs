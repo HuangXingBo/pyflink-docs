{
 "cells": [
  {
   "cell_type": "markdown",
   "metadata": {
    "pycharm": {
     "name": "#%% md\n"
    }
   },
   "source": [
    "# QuickStart: Table API\n"
   ]
  },
  {
   "cell_type": "markdown",
   "metadata": {},
   "source": [
    "import related packages\n"
   ]
  },
  {
   "cell_type": "code",
   "execution_count": 1,
   "metadata": {},
   "outputs": [],
   "source": [
    "from pyflink.table import EnvironmentSettings, TableEnvironment\n",
    "from pyflink.table.expressions import col"
   ]
  },
  {
   "cell_type": "markdown",
   "metadata": {
    "pycharm": {
     "name": "#%% md\n"
    }
   },
   "source": [
    "Create TableEnvironment\n"
   ]
  },
  {
   "cell_type": "code",
   "execution_count": 2,
   "metadata": {
    "pycharm": {
     "name": "#%%\n"
    }
   },
   "outputs": [],
   "source": [
    "env_settings = EnvironmentSettings.in_streaming_mode()\n",
    "table_env = TableEnvironment.create(env_settings)"
   ]
  },
  {
   "cell_type": "markdown",
   "metadata": {},
   "source": [
    "Create Source Table\n"
   ]
  },
  {
   "cell_type": "code",
   "execution_count": 3,
   "metadata": {},
   "outputs": [
    {
     "data": {
      "text/plain": [
       "<pyflink.table.table_result.TableResult at 0x7f8fabc57390>"
      ]
     },
     "execution_count": 3,
     "metadata": {},
     "output_type": "execute_result"
    }
   ],
   "source": [
    "table_env.execute_sql(\"\"\"\n",
    "    CREATE TABLE datagen (\n",
    "        id INT,\n",
    "        data STRING\n",
    "    ) WITH (\n",
    "        'connector' = 'datagen',\n",
    "        'fields.id.kind' = 'sequence',\n",
    "        'fields.id.start' = '1',\n",
    "        'fields.id.end' = '10'\n",
    "    )\n",
    "\"\"\")\n"
   ]
  },
  {
   "cell_type": "markdown",
   "metadata": {},
   "source": [
    "Create Sink Table\n"
   ]
  },
  {
   "cell_type": "code",
   "execution_count": 4,
   "metadata": {
    "pycharm": {
     "name": "#%%\n"
    }
   },
   "outputs": [
    {
     "data": {
      "text/plain": [
       "<pyflink.table.table_result.TableResult at 0x7f8fabc57630>"
      ]
     },
     "execution_count": 4,
     "metadata": {},
     "output_type": "execute_result"
    }
   ],
   "source": [
    "table_env.execute_sql(\"\"\"\n",
    "    CREATE TABLE print (\n",
    "        id INT,\n",
    "        data STRING\n",
    "    ) WITH (\n",
    "        'connector' = 'print'\n",
    "    )\n",
    "\"\"\")\n"
   ]
  },
  {
   "cell_type": "markdown",
   "metadata": {},
   "source": [
    "query from source table and perform calculations\n",
    "create a Table from a Table API query:\n"
   ]
  },
  {
   "cell_type": "code",
   "execution_count": 5,
   "metadata": {
    "pycharm": {
     "name": "#%%\n"
    }
   },
   "outputs": [],
   "source": [
    "source_table = table_env.from_path(\"datagen\")"
   ]
  },
  {
   "cell_type": "markdown",
   "metadata": {},
   "source": [
    "or create a Table from a SQL query:\n"
   ]
  },
  {
   "cell_type": "code",
   "execution_count": 6,
   "metadata": {
    "pycharm": {
     "name": "#%%\n"
    }
   },
   "outputs": [],
   "source": [
    "source_table = table_env.sql_query(\"SELECT * FROM datagen\")\n"
   ]
  },
  {
   "cell_type": "markdown",
   "source": [
    "Compute `+1` operation in column of `id`\n"
   ],
   "metadata": {
    "collapsed": false
   }
  },
  {
   "cell_type": "code",
   "execution_count": 7,
   "metadata": {
    "pycharm": {
     "name": "#%%\n"
    }
   },
   "outputs": [],
   "source": [
    "result_table = source_table.select(col(\"id\") + 1, col(\"data\"))"
   ]
  },
  {
   "cell_type": "markdown",
   "metadata": {},
   "source": [
    "emit query result to sink table\n",
    "emit a Table API result Table to a sink table:\n"
   ]
  },
  {
   "cell_type": "code",
   "execution_count": 8,
   "metadata": {
    "pycharm": {
     "name": "#%%\n"
    }
   },
   "outputs": [
    {
     "name": "stdout",
     "output_type": "stream",
     "text": [
      "8> +I[9, d00b0e7a3eac4541d13b32cec9b555e41506edc9cb533a098e6e584faa9e683d75c830fb038c5d4823053be64118d75965f7]\n",
      "10> +I[11, f62e5e65b83dccf7255b3cf30be3c95b7a24665a595744581d1a2d2c96a93f4e3766dfe4e7ac81fb898683d351fd273624a7]\n",
      "1> +I[2, d40c0e8a5c9dd67771eb3220bd8bf66e9e6d575539804d42ad1efd88e7a7bf38fed5a660bfc5277ee4fbe80663230da04822]\n",
      "2> +I[3, 480c8a91c0f2e491bdd46b5cc1ca210667057345d4ccdca3985064502f1bcca0de529d2af3fff37dc9f0384c3057adca3097]\n",
      "9> +I[10, 82082e9e37965ee2e8b840bf1b0eadc1abb09e748be35ba2eb7ebac7283487d223cb8575f275f01c61e5c891de7cbc75065c]\n",
      "3> +I[4, 259b6c32704d1c2665b592e8cd8220f40a8ec758d336902f4e5fb21ddbbe0d5972aa12b79a44189bd321e8d3fd5def52280d]\n",
      "4> +I[5, eb9a68775cf20d5ee4688e0ced3f855afed93d68a7637217392118c627defcd0484235d451dd56335bb2bf2081ad3146cee0]\n",
      "5> +I[6, 1fb91a121fa131ebdc8743d5444b2480bf3e56a4b4bb34fa9842165fb016a64740bcc1e7924a9015bb7daf935fca12a4cd2d]\n",
      "7> +I[8, d20c8c11d616c073a9f8c1a9789110ee956744581846c3e546ca15df1dfd963469a713520c50ce302f1927b3c1e21df82a73]\n",
      "6> +I[7, 4f8ca8cdd3b769709fe6e34141909b1cd11744973248f4f5af092dec35188dfb91e47fb1617152577c426592306753906491]\n"
     ]
    }
   ],
   "source": [
    "result_table.execute_insert(\"print\").wait()"
   ]
  },
  {
   "cell_type": "markdown",
   "metadata": {},
   "source": [
    "or emit results via SQL query:\n"
   ]
  },
  {
   "cell_type": "code",
   "execution_count": 9,
   "metadata": {
    "pycharm": {
     "name": "#%%\n"
    }
   },
   "outputs": [
    {
     "name": "stdout",
     "output_type": "stream",
     "text": [
      "1> +I[1, 339d8c8c0bf32ff0fec2c8276b984522fcd07077b152ba101b18b89407f551ff62162707db304521abb6246fd1b90c87c240]\n",
      "2> +I[2, 4f8fc8e3e3a939c2ca06dde562c17ff036c546a3ba95f8b3850dd2c97712819ca4f3e99fa64d39be8ed95ed3f8c73184f601]\n",
      "3> +I[3, 00393e7e2d916721baf3a15450506c78950024b684ae6c1d30301ace5ec59dc9146384ef6b2367f34e197cd475cc5b25236f]\n",
      "4> +I[4, 661a8c8e5067b8331fe1623492a7812539a5ef1af8edfd9a018ba0f14fa569f37505e5d6531695aa6da3a915c214936635f2]\n",
      "6> +I[6, 960a8c0a12ba0050bf717ad5f1d62bac65630973bfced5ee8304860f445869b314843d92bf07dade556e2e7089d063bc2d66]\n",
      "5> +I[5, 7f994a758cae4a05394ed1c34f2efd96d90cfc6d1e9c14507cd507c3d3a240f018ac4e81ee234882b85fe2296c234bd2fe2b]\n",
      "7> +I[7, 4e0d48d5ca11b299c454299566746723c55d2c071eae6dee73524554454998f11f07792fe4eaf5bc724e7420b9c0d0b2fa85]\n",
      "8> +I[8, 418fec9c23f9f270e713fa388df3b8895388019e2614838daaa3d705e24e951de359b21b03e0d4e7c294a31d9289b77d9141]\n",
      "9> +I[9, 39998804e22de5085385535f4fdb5d79c70a905b32fe1d886f0dc3bdb775bda43df1e0dee461cbc027cf60e58fb4f0a8577e]\n",
      "10> +I[10, 3bac9a31f453922d6e45645e072e8b334dacbe85a14d1c4b846c9c8c63dd096c481cd27384af14aaa8d345a17cf236a6fefc]\n"
     ]
    }
   ],
   "source": [
    "table_env.execute_sql(\"INSERT INTO print SELECT * FROM datagen\").wait()"
   ]
  }
 ],
 "metadata": {
  "kernelspec": {
   "display_name": "Python 3 (ipykernel)",
   "language": "python",
   "name": "python3"
  },
  "language_info": {
   "codemirror_mode": {
    "name": "ipython",
    "version": 3
   },
   "file_extension": ".py",
   "mimetype": "text/x-python",
   "name": "python",
   "nbconvert_exporter": "python",
   "pygments_lexer": "ipython3",
   "version": "3.7.3"
  },
  "pycharm": {
   "stem_cell": {
    "cell_type": "raw",
    "source": [],
    "metadata": {
     "collapsed": false
    }
   }
  }
 },
 "nbformat": 4,
 "nbformat_minor": 4
}